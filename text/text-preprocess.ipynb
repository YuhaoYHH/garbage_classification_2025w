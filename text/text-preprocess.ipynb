{
 "cells": [
  {
   "cell_type": "code",
   "execution_count": 1,
   "id": "18037512-3d84-4628-9fde-be008741abb0",
   "metadata": {},
   "outputs": [],
   "source": [
    "import os\n",
    "import re\n",
    "import numpy as np"
   ]
  },
  {
   "cell_type": "code",
   "execution_count": 2,
   "id": "a5cf9cba-f3ef-4946-900a-2fdc216e1425",
   "metadata": {},
   "outputs": [],
   "source": [
    "# Text pre-processing method\n",
    "def clean_text(text):\n",
    "    text = text.lower()  # Convert to lowercase \n",
    "    text = text.replace('_', ' ')  # Replace underscore with space\n",
    "    text = text.strip()  # Remove space at end\n",
    "    text = re.sub(r'[^a-zA-Z\\s]', '', text)  # Remove any other special chars\n",
    "    return(text)    "
   ]
  },
  {
   "cell_type": "code",
   "execution_count": 3,
   "id": "2ad47c4a-c7d4-4e3e-b302-394a1f2c055b",
   "metadata": {},
   "outputs": [],
   "source": [
    "# Extract text from file names as well as labels\n",
    "# Input: path of parent directory of class folders\n",
    "# Output: Numpy array with two columns: file names and classes (labelled with integer from 1)\n",
    "def read_text_files_with_labels(path):\n",
    "    text_and_labels = []\n",
    "    print(\"Dir: \" + os.path.split(path)[1] + \"\\n\")\n",
    "    class_folders = sorted(os.listdir(path))  # Assuming class folders are sorted\n",
    "    label_map = {class_name: idx-1 for idx, class_name in enumerate(class_folders)}\n",
    "\n",
    "    for class_name in class_folders:\n",
    "        class_path = os.path.join(path, class_name)\n",
    "        if os.path.isdir(class_path):\n",
    "            file_names = os.listdir(class_path)\n",
    "            # Print class names, labels, and picture count in each class\n",
    "            print(\"Class: \" + class_name + \", class label: \" + str(label_map[class_name]) + \", picture count: \" + str(len(file_names)) + \"\\n\")\n",
    "            \n",
    "            for file_name in file_names:\n",
    "                file_path = os.path.join(class_path, file_name)\n",
    "                if os.path.isfile(file_path):\n",
    "                    file_name_no_ext, _ = os.path.splitext(file_name)\n",
    "                    clean_file_name = clean_text(file_name_no_ext)\n",
    "                    text_and_labels.append([clean_file_name, label_map[class_name]])\n",
    "    return np.array(text_and_labels)"
   ]
  },
  {
   "cell_type": "code",
   "execution_count": 4,
   "id": "bc91ee62-0e4a-4537-9082-a6376f088f4c",
   "metadata": {},
   "outputs": [],
   "source": [
    "# Dataset paths\n",
    "TRAIN_PATH = r\"/Users/yuhao/Downloads/garbage_data/CVPR_2024_dataset_Train\"\n",
    "VAL_PATH = r\"/Users/yuhao/Downloads/garbage_data/CVPR_2024_dataset_Val\"\n",
    "TEST_PATH = r\"/Users/yuhao/Downloads/garbage_data/CVPR_2024_dataset_Test\""
   ]
  },
  {
   "cell_type": "code",
   "execution_count": 5,
   "id": "b876260c-bf6d-4e63-8904-87c01ebb78ad",
   "metadata": {
    "scrolled": true
   },
   "outputs": [
    {
     "name": "stdout",
     "output_type": "stream",
     "text": [
      "Dir: CVPR_2024_dataset_Train\n",
      "\n",
      "Class: Black, class label: 0, picture count: 2368\n",
      "\n",
      "Class: Blue, class label: 1, picture count: 4842\n",
      "\n",
      "Class: Green, class label: 2, picture count: 2317\n",
      "\n",
      "Class: TTR, class label: 3, picture count: 2102\n",
      "\n"
     ]
    }
   ],
   "source": [
    "train_text_labels = read_text_files_with_labels(TRAIN_PATH)"
   ]
  },
  {
   "cell_type": "code",
   "execution_count": 6,
   "id": "a334f934-1afe-4f91-a828-dfdaabdc9db8",
   "metadata": {},
   "outputs": [
    {
     "name": "stdout",
     "output_type": "stream",
     "text": [
      "Dir: CVPR_2024_dataset_Val\n",
      "\n",
      "Class: Black, class label: 0, picture count: 372\n",
      "\n",
      "Class: Blue, class label: 1, picture count: 768\n",
      "\n",
      "Class: Green, class label: 2, picture count: 352\n",
      "\n",
      "Class: TTR, class label: 3, picture count: 308\n",
      "\n",
      "Dir: CVPR_2024_dataset_Test\n",
      "\n",
      "Class: Black, class label: 0, picture count: 695\n",
      "\n",
      "Class: Blue, class label: 1, picture count: 1086\n",
      "\n",
      "Class: Green, class label: 2, picture count: 799\n",
      "\n",
      "Class: TTR, class label: 3, picture count: 852\n",
      "\n"
     ]
    }
   ],
   "source": [
    "val_text_labels = read_text_files_with_labels(VAL_PATH)\n",
    "test_text_labels = read_text_files_with_labels(TEST_PATH)"
   ]
  },
  {
   "cell_type": "code",
   "execution_count": 7,
   "id": "4d5212ce-de44-4fac-89ad-2fefc88568d4",
   "metadata": {},
   "outputs": [],
   "source": [
    "# Write datasets into csv\n",
    "np.savetxt(\"train_text_labels.csv\", train_text_labels, delimiter=',', fmt=\"%s\")\n",
    "np.savetxt(\"val_text_labels.csv\", val_text_labels, delimiter=',', fmt=\"%s\")\n",
    "np.savetxt(\"test_text_labels.csv\", test_text_labels, delimiter=',', fmt=\"%s\")"
   ]
  },
  {
   "cell_type": "code",
   "execution_count": 8,
   "id": "0e6a4bb0-f318-4758-8329-2983bc81a769",
   "metadata": {},
   "outputs": [],
   "source": [
    "x = np.genfromtxt('train_text_labels.csv', delimiter=',', dtype=str, encoding=None)"
   ]
  },
  {
   "cell_type": "code",
   "execution_count": 9,
   "id": "94c0cd96-0caf-49b3-b198-7f690fe99a30",
   "metadata": {},
   "outputs": [
    {
     "data": {
      "text/plain": [
       "numpy.ndarray"
      ]
     },
     "execution_count": 9,
     "metadata": {},
     "output_type": "execute_result"
    }
   ],
   "source": [
    "type(x)"
   ]
  },
  {
   "cell_type": "code",
   "execution_count": 10,
   "id": "4e59ef0b-0648-40d1-b221-2ed162a69210",
   "metadata": {},
   "outputs": [
    {
     "data": {
      "text/plain": [
       "'cheese plastic wrapper '"
      ]
     },
     "execution_count": 10,
     "metadata": {},
     "output_type": "execute_result"
    }
   ],
   "source": [
    "x[1][0]"
   ]
  },
  {
   "cell_type": "code",
   "execution_count": 11,
   "id": "02e24ea3-aa07-4dc2-bf46-d726b8f64832",
   "metadata": {},
   "outputs": [
    {
     "data": {
      "text/plain": [
       "array(['cheese plastic wrapper ', '0'], dtype='<U65')"
      ]
     },
     "execution_count": 11,
     "metadata": {},
     "output_type": "execute_result"
    }
   ],
   "source": [
    "x[1]"
   ]
  },
  {
   "cell_type": "code",
   "execution_count": 12,
   "id": "9b0f2ad0-6ba3-4c01-ba8b-53d860385ab9",
   "metadata": {},
   "outputs": [
    {
     "data": {
      "text/plain": [
       "(11629, 2)"
      ]
     },
     "execution_count": 12,
     "metadata": {},
     "output_type": "execute_result"
    }
   ],
   "source": [
    "x.shape"
   ]
  },
  {
   "cell_type": "code",
   "execution_count": 40,
   "id": "7726bedf-66b8-466c-99d1-27ca0fda5b59",
   "metadata": {},
   "outputs": [
    {
     "name": "stdout",
     "output_type": "stream",
     "text": [
      "(11629,)\n"
     ]
    }
   ],
   "source": [
    "print(train_text.shape)"
   ]
  },
  {
   "cell_type": "code",
   "execution_count": 41,
   "id": "6c885f28-87fd-41d4-9294-dced3ed9e223",
   "metadata": {},
   "outputs": [
    {
     "data": {
      "text/plain": [
       "numpy.ndarray"
      ]
     },
     "execution_count": 41,
     "metadata": {},
     "output_type": "execute_result"
    }
   ],
   "source": [
    "type(train_text)"
   ]
  },
  {
   "cell_type": "code",
   "execution_count": 42,
   "id": "bfa6bbfc-f1db-491f-ae9f-ea53c03a7348",
   "metadata": {},
   "outputs": [
    {
     "data": {
      "text/plain": [
       "array(['instant noodles bag ', 'cheese plastic wrapper ',\n",
       "       'plastic spoon ', 'sweet wrapping ', 'foam plate ',\n",
       "       'sealed plastic bag ', 'small plastic lid ',\n",
       "       'muscle cream bottle ', 'plastic fork ', 'plastic bag ',\n",
       "       'plastic fork ', 'styrofoam ', 'foam plate ', 'chocolate wrapper ',\n",
       "       'old worn sandpaper ', 'empty chip packet ', 'tape roll ',\n",
       "       'clean plastic straw ', 'dirty plastic box with plastic cover ',\n",
       "       'plastic lid ', 'nonstretchy wrap ', 'mask ',\n",
       "       'clean plastic tofu container ', 'mosquito repellent cream tube ',\n",
       "       'razer ', 'multilayer snack wrapper ', 'empty toothpaste tube ',\n",
       "       'foam meat package', 'oily plastic food wrapper ',\n",
       "       'foil food wrapper '], dtype='<U65')"
      ]
     },
     "execution_count": 42,
     "metadata": {},
     "output_type": "execute_result"
    }
   ],
   "source": [
    "train_text[0:30]"
   ]
  },
  {
   "cell_type": "code",
   "execution_count": null,
   "id": "2f133ef2-9481-402b-89fa-75244a0752fc",
   "metadata": {},
   "outputs": [],
   "source": []
  }
 ],
 "metadata": {
  "kernelspec": {
   "display_name": "Python 3 (ipykernel)",
   "language": "python",
   "name": "python3"
  },
  "language_info": {
   "codemirror_mode": {
    "name": "ipython",
    "version": 3
   },
   "file_extension": ".py",
   "mimetype": "text/x-python",
   "name": "python",
   "nbconvert_exporter": "python",
   "pygments_lexer": "ipython3",
   "version": "3.9.20"
  }
 },
 "nbformat": 4,
 "nbformat_minor": 5
}
