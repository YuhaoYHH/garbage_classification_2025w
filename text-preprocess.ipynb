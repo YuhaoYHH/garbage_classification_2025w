{
 "cells": [
  {
   "cell_type": "code",
   "execution_count": 1,
   "id": "18037512-3d84-4628-9fde-be008741abb0",
   "metadata": {},
   "outputs": [],
   "source": [
    "import os\n",
    "import re\n",
    "import numpy as np"
   ]
  },
  {
   "cell_type": "code",
   "execution_count": 2,
   "id": "a5cf9cba-f3ef-4946-900a-2fdc216e1425",
   "metadata": {},
   "outputs": [],
   "source": [
    "# Text pre-processing method\n",
    "def clean_text(text):\n",
    "    text = text.lower()  # Convert to lowercase \n",
    "    text = text.replace('_', ' ')  # Replace underscore with space\n",
    "    text = text.strip()  # Remove space at both ends\n",
    "    text = re.sub(r'[^a-zA-Z\\s]', '', text)  # Remove any other special chars\n",
    "    return(text)    "
   ]
  },
  {
   "cell_type": "code",
   "execution_count": 3,
   "id": "2ad47c4a-c7d4-4e3e-b302-394a1f2c055b",
   "metadata": {},
   "outputs": [],
   "source": [
    "# Extract text from file names as well as labels\n",
    "# Input: path of parent directory of class folders\n",
    "# Output: Numpy array with two columns: file names and classes (labelled with integer from 1)\n",
    "def read_text_files_with_labels(path):\n",
    "    text_and_labels = []\n",
    "    print(\"Dir: \" + os.path.split(path)[1] + \"\\n\")\n",
    "    class_folders = sorted(os.listdir(path))  # Assuming class folders are sorted\n",
    "    label_map = {class_name: idx-1 for idx, class_name in enumerate(class_folders)}\n",
    "\n",
    "    for class_name in class_folders:\n",
    "        class_path = os.path.join(path, class_name)\n",
    "        if os.path.isdir(class_path):\n",
    "            file_names = os.listdir(class_path)\n",
    "            # Print class names, labels, and picture count in each class\n",
    "            print(\"Class: \" + class_name + \", class label: \" + str(label_map[class_name]) + \", picture count: \" + str(len(file_names)) + \"\\n\")\n",
    "            \n",
    "            for file_name in file_names:\n",
    "                file_path = os.path.join(class_path, file_name)\n",
    "                if os.path.isfile(file_path):\n",
    "                    file_name_no_ext, _ = os.path.splitext(file_name)\n",
    "                    clean_file_name = clean_text(file_name_no_ext)\n",
    "                    text_and_labels.append([clean_file_name, label_map[class_name]])\n",
    "    return np.array(text_and_labels)"
   ]
  },
  {
   "cell_type": "code",
   "execution_count": 4,
   "id": "bc91ee62-0e4a-4537-9082-a6376f088f4c",
   "metadata": {},
   "outputs": [],
   "source": [
    "# Dataset paths\n",
    "TRAIN_PATH = r\"/Users/yuhao/Downloads/garbage_data/CVPR_2024_dataset_Train\"\n",
    "VAL_PATH = r\"/Users/yuhao/Downloads/garbage_data/CVPR_2024_dataset_Val\"\n",
    "TEST_PATH = r\"/Users/yuhao/Downloads/garbage_data/CVPR_2024_dataset_Test\""
   ]
  },
  {
   "cell_type": "code",
   "execution_count": 5,
   "id": "b876260c-bf6d-4e63-8904-87c01ebb78ad",
   "metadata": {
    "scrolled": true
   },
   "outputs": [
    {
     "name": "stdout",
     "output_type": "stream",
     "text": [
      "Dir: CVPR_2024_dataset_Train\n",
      "\n",
      "Class: Black, class label: 0, picture count: 2368\n",
      "\n",
      "Class: Blue, class label: 1, picture count: 4842\n",
      "\n",
      "Class: Green, class label: 2, picture count: 2317\n",
      "\n",
      "Class: TTR, class label: 3, picture count: 2102\n",
      "\n",
      "Dir: CVPR_2024_dataset_Val\n",
      "\n",
      "Class: Black, class label: 0, picture count: 372\n",
      "\n",
      "Class: Blue, class label: 1, picture count: 768\n",
      "\n",
      "Class: Green, class label: 2, picture count: 352\n",
      "\n",
      "Class: TTR, class label: 3, picture count: 308\n",
      "\n",
      "Dir: CVPR_2024_dataset_Test\n",
      "\n",
      "Class: Black, class label: 0, picture count: 695\n",
      "\n",
      "Class: Blue, class label: 1, picture count: 1086\n",
      "\n",
      "Class: Green, class label: 2, picture count: 799\n",
      "\n",
      "Class: TTR, class label: 3, picture count: 852\n",
      "\n"
     ]
    }
   ],
   "source": [
    "train_text_labels = read_text_files_with_labels(TRAIN_PATH)\n",
    "val_text_labels = read_text_files_with_labels(VAL_PATH)\n",
    "test_text_labels = read_text_files_with_labels(TEST_PATH)"
   ]
  },
  {
   "cell_type": "code",
   "execution_count": 6,
   "id": "4d5212ce-de44-4fac-89ad-2fefc88568d4",
   "metadata": {},
   "outputs": [],
   "source": [
    "# Write datasets into csv\n",
    "np.savetxt(\"train_text_labels.csv\", train_text_labels, delimiter=',', fmt=\"%s\")\n",
    "np.savetxt(\"val_text_labels.csv\", val_text_labels, delimiter=',', fmt=\"%s\")\n",
    "np.savetxt(\"test_text_labels.csv\", test_text_labels, delimiter=',', fmt=\"%s\")"
   ]
  }
 ],
 "metadata": {
  "kernelspec": {
   "display_name": "Python 3 (ipykernel)",
   "language": "python",
   "name": "python3"
  },
  "language_info": {
   "codemirror_mode": {
    "name": "ipython",
    "version": 3
   },
   "file_extension": ".py",
   "mimetype": "text/x-python",
   "name": "python",
   "nbconvert_exporter": "python",
   "pygments_lexer": "ipython3",
   "version": "3.9.20"
  }
 },
 "nbformat": 4,
 "nbformat_minor": 5
}
